{
 "cells": [
  {
   "cell_type": "code",
   "execution_count": 1,
   "metadata": {},
   "outputs": [],
   "source": [
    "import numpy as np\n",
    "import os\n",
    "import cv2\n",
    "import pickle\n",
    "import matplotlib.pyplot as plt\n",
    "import tensorflow as tf\n",
    "import random\n",
    "\n"
   ]
  },
  {
   "cell_type": "code",
   "execution_count": 2,
   "metadata": {},
   "outputs": [],
   "source": [
    "pickle_in = open(\"X_test.pickle\",\"rb\")\n",
    "X_test =pickle.load(pickle_in)\n",
    "\n",
    "#pickle_in = open(\"X_train.pickle\",\"rb\")\n",
    "#X_train =pickle.load(pickle_in)\n",
    "\n",
    "pickle_in = open(\"Y_test.pickle\",\"rb\")\n",
    "Y_test =pickle.load(pickle_in)\n",
    "\n",
    "pickle_in = open(\"X_val.pickle\",\"rb\")\n",
    "X_val = pickle.load(pickle_in)\n",
    "\n",
    "pickle_in = open(\"Y_val.pickle\",\"rb\")\n",
    "Y_val = pickle.load(pickle_in)\n"
   ]
  },
  {
   "cell_type": "code",
   "execution_count": 3,
   "metadata": {},
   "outputs": [
    {
     "name": "stdout",
     "output_type": "stream",
     "text": [
      "(480000, 624)\n",
      "(480000, 16)\n",
      "(1, 624)\n",
      "(1, 16)\n"
     ]
    }
   ],
   "source": [
    "print(X_test.shape)\n",
    "print(X_val.shape)\n",
    "print(Y_test.shape)\n",
    "print(Y_val.shape)"
   ]
  },
  {
   "cell_type": "code",
   "execution_count": 4,
   "metadata": {},
   "outputs": [],
   "source": [
    "X_test = X_test/255.0"
   ]
  },
  {
   "cell_type": "code",
   "execution_count": 5,
   "metadata": {},
   "outputs": [
    {
     "name": "stdout",
     "output_type": "stream",
     "text": [
      "[[0.36470588 0.4745098  0.17647059 ... 0.00784314 0.6745098  0.10980392]\n",
      " [0.36470588 0.4745098  0.17647059 ... 0.00784314 0.6745098  0.10980392]\n",
      " [0.36470588 0.4745098  0.17647059 ... 0.00784314 0.6745098  0.10980392]\n",
      " ...\n",
      " [0.         0.09803922 0.10588235 ... 0.03529412 0.11372549 0.        ]\n",
      " [0.         0.09803922 0.10588235 ... 0.03529412 0.11372549 0.        ]\n",
      " [0.         0.09803922 0.10588235 ... 0.03529412 0.11372549 0.        ]]\n"
     ]
    }
   ],
   "source": [
    "print(X_test)\n"
   ]
  },
  {
   "cell_type": "code",
   "execution_count": 6,
   "metadata": {},
   "outputs": [],
   "source": [
    "\n",
    "X_val = X_val/255.0\n",
    "\n"
   ]
  },
  {
   "cell_type": "code",
   "execution_count": 7,
   "metadata": {},
   "outputs": [],
   "source": [
    "def sigmoid(z):\n",
    "    s = 1/(1+np.exp(-z))\n",
    "    return s"
   ]
  },
  {
   "cell_type": "code",
   "execution_count": 8,
   "metadata": {},
   "outputs": [],
   "source": [
    "def initialization(dim):\n",
    "    #w = np.zeros(shape=(dim,1),dtype=np.float32)\n",
    "    #b = 0\n",
    "    w = np.random.randn(dim,1)*0.01\n",
    "    b = 0\n",
    "    assert(w.shape == (dim, 1))\n",
    "    assert(isinstance(b, float) or isinstance(b, int))\n",
    "    return w,b"
   ]
  },
  {
   "cell_type": "code",
   "execution_count": 9,
   "metadata": {},
   "outputs": [],
   "source": [
    "def propragate(w,b,X,Y):\n",
    "    m= X.shape[1]\n",
    "    #fordward propragate\n",
    "    A = sigmoid(np.dot(w.T,X)+b)\n",
    "    cost = -1/m * np.sum(Y*np.log(A)+(1-Y)*np.log(1-A),axis = 1) \n",
    "    #backpropragate\n",
    "    dw = 1/m*(np.dot(X,(A-Y).T))\n",
    "    db = 1/m*(np.sum(A-Y))\n",
    "\n",
    "    cost = np.squeeze(cost)\n",
    "    grads = {\"dw\":dw,\n",
    "            \"db\":db}\n",
    "    \n",
    "    return grads,cost"
   ]
  },
  {
   "cell_type": "code",
   "execution_count": 10,
   "metadata": {},
   "outputs": [],
   "source": [
    "def optimize(w,b,X,Y,num_iterations,learning_rate,print_cost = True):\n",
    "    costss=[]\n",
    "    for i in range(num_iterations):\n",
    "        \n",
    "        grads,cost = propragate(w,b,X,Y)\n",
    "        dw = grads[\"dw\"]\n",
    "        db = grads[\"db\"]\n",
    "        w = w-learning_rate*dw\n",
    "        b = b-learning_rate*db\n",
    "        \n",
    "\n",
    "                # Record the costs\n",
    "        if i % 100 == 0:\n",
    "            costss.append(cost)\n",
    "        \n",
    "        # Print the cost every 100 training iterations\n",
    "        if print_cost and i % 100 == 0:\n",
    "            print (\"Cost after iteration %i: %f\" %(i, cost))\n",
    "    params = {\"w\":w,\n",
    "             \"b\":b}\n",
    "    grads= {\"dw\":dw,\n",
    "           \"db\":db}\n",
    "    return params,grads,costss"
   ]
  },
  {
   "cell_type": "code",
   "execution_count": 11,
   "metadata": {},
   "outputs": [],
   "source": [
    "def predict(w,b,X):\n",
    "    m = X.shape[1]\n",
    "    A = sigmoid(np.dot(w.T,X)+b)\n",
    "    w = w.reshape(X.shape[0],1)\n",
    "    prediction = np.zeros((1,m))\n",
    "    \n",
    "    \n",
    "    for i in range(A.shape[1]):\n",
    "        if(A[0,i]>0.5):\n",
    "            prediction[0,i] = 1\n",
    "        else:\n",
    "            prediction[0,i] = 0\n",
    "    return prediction\n",
    "            \n",
    "    \n"
   ]
  },
  {
   "cell_type": "code",
   "execution_count": 12,
   "metadata": {},
   "outputs": [],
   "source": [
    "# function to create a list containing mini-batches \n",
    "def create_mini_batches(X, y, batch_size): \n",
    "    mini_batches = [] \n",
    "    data = np.hstack((X, y)) \n",
    "    np.random.shuffle(data) \n",
    "    n_minibatches = data.shape[0] // batch_size \n",
    "    i = 0\n",
    "  \n",
    "    for i in range(n_minibatches + 1): \n",
    "        mini_batch = data[i * batch_size:(i + 1)*batch_size, :] \n",
    "        X_mini = mini_batch[:, :-1] \n",
    "        Y_mini = mini_batch[:, -1].reshape((-1, 1)) \n",
    "        mini_batches.append((X_mini, Y_mini)) \n",
    "    if data.shape[0] % batch_size != 0: \n",
    "        mini_batch = data[i * batch_size:data.shape[0]] \n",
    "        X_mini = mini_batch[:, :-1] \n",
    "        Y_mini = mini_batch[:, -1].reshape((-1, 1)) \n",
    "        mini_batches.append((X_mini, Y_mini)) \n",
    "    return mini_batches "
   ]
  },
  {
   "cell_type": "code",
   "execution_count": 1,
   "metadata": {},
   "outputs": [],
   "source": [
    "def finalmodel(X_test,Y_test,X_val,Y_val,num_iterations = 2000,learning_rate = 0.5, print_cost = False):\n",
    "    w, b = initialization(X_test.shape[0])\n",
    "    \n",
    "    params, grads,costss = optimize(w,b,X_test,Y_test,num_iterations,learning_rate,print_cost)\n",
    "    w = params[\"w\"]\n",
    "    b = params[\"b\"]\n",
    "    \n",
    "    Y_prediction_train = predict(w,b,X_test)\n",
    "    Y_prediction_test = predict(w,b,X_val)\n",
    "        \n",
    "        # Print train/test Errors\n",
    "    print(\"train accuracy: {} %\".format(100 - np.mean(np.abs(Y_prediction_train - Y_test)) * 100))\n",
    "    print(\"test accuracy: {} %\".format(100 - np.mean(np.abs(Y_prediction_test - Y_val)) * 100))\n",
    "    \n",
    "    d = {\"costs\": costss,\n",
    "         \"Y_prediction_test\": Y_prediction_test, \n",
    "         \"Y_prediction_train\" : Y_prediction_train, \n",
    "         \"w\" : w, \n",
    "         \"b\" : b,\n",
    "         \"learning_rate\" : learning_rate,\n",
    "         \"num_iterations\": num_iterations}\n",
    "           \n",
    "    return d"
   ]
  },
  {
   "cell_type": "code",
   "execution_count": 14,
   "metadata": {},
   "outputs": [
    {
     "name": "stdout",
     "output_type": "stream",
     "text": [
      "Cost after iteration 0: 0.694723\n",
      "Cost after iteration 100: 0.678675\n",
      "Cost after iteration 200: 0.670528\n",
      "Cost after iteration 300: 0.666162\n",
      "Cost after iteration 400: 0.663619\n",
      "Cost after iteration 500: 0.661962\n",
      "Cost after iteration 600: 0.660740\n",
      "Cost after iteration 700: 0.659733\n",
      "Cost after iteration 800: 0.658835\n",
      "Cost after iteration 900: 0.657992\n",
      "Cost after iteration 1000: 0.657177\n",
      "Cost after iteration 1100: 0.656378\n",
      "Cost after iteration 1200: 0.655589\n",
      "Cost after iteration 1300: 0.654805\n",
      "Cost after iteration 1400: 0.654026\n",
      "Cost after iteration 1500: 0.653251\n",
      "Cost after iteration 1600: 0.652478\n",
      "Cost after iteration 1700: 0.651709\n",
      "Cost after iteration 1800: 0.650943\n",
      "Cost after iteration 1900: 0.650179\n",
      "Cost after iteration 2000: 0.649418\n",
      "Cost after iteration 2100: 0.648660\n",
      "Cost after iteration 2200: 0.647905\n",
      "Cost after iteration 2300: 0.647152\n",
      "Cost after iteration 2400: 0.646402\n",
      "train accuracy: 62.5 %\n",
      "test accuracy: 50.0 %\n"
     ]
    }
   ],
   "source": [
    "d = finalmodel(X_test, Y_test, X_val, Y_val, num_iterations = 2500, learning_rate = 0.005, print_cost = True)"
   ]
  },
  {
   "cell_type": "code",
   "execution_count": 15,
   "metadata": {},
   "outputs": [
    {
     "data": {
      "image/png": "[encoded data removed]",
      "text/plain": [
       "<Figure size 432x288 with 1 Axes>"
      ]
     },
     "metadata": {
      "needs_background": "light"
     },
     "output_type": "display_data"
    }
   ],
   "source": [
    "# Plot learning curve (with costs)\n",
    "costs = np.squeeze(d['costs'])\n",
    "plt.plot(costs)\n",
    "plt.ylabel('cost')\n",
    "plt.xlabel('iterations (per hundreds)')\n",
    "plt.title(\"Learning rate =\" + str(d[\"learning_rate\"]))\n",
    "plt.show()"
   ]
  },
  {
   "cell_type": "code",
   "execution_count": null,
   "metadata": {},
   "outputs": [],
   "source": []
  },
  {
   "cell_type": "code",
   "execution_count": null,
   "metadata": {},
   "outputs": [],
   "source": []
  },
  {
   "cell_type": "code",
   "execution_count": null,
   "metadata": {},
   "outputs": [],
   "source": []
  }
 ],
 "metadata": {
  "kernelspec": {
   "display_name": "Python 3",
   "language": "python",
   "name": "python3"
  },
  "language_info": {
   "codemirror_mode": {
    "name": "ipython",
    "version": 3
   },
   "file_extension": ".py",
   "mimetype": "text/x-python",
   "name": "python",
   "nbconvert_exporter": "python",
   "pygments_lexer": "ipython3",
   "version": "3.8.3"
  }
 },
 "nbformat": 4,
 "nbformat_minor": 4
}
