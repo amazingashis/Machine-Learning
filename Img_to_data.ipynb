{
 "cells": [
  {
   "cell_type": "code",
   "execution_count": 1,
   "metadata": {},
   "outputs": [],
   "source": [
    "import pickle\n",
    "import os\n",
    "import cv2\n",
    "import matplotlib.pyplot as plt\n",
    "import random\n",
    "\n",
    "import numpy as np"
   ]
  },
  {
   "cell_type": "code",
   "execution_count": 47,
   "metadata": {},
   "outputs": [
    {
     "name": "stdout",
     "output_type": "stream",
     "text": [
      "624\n"
     ]
    }
   ],
   "source": [
    "DATADIR = \"D:/data/chest_xray/test\"\n",
    "CATEGORY = [\"NORMAL\",\"PNEUMONIA\"]\n",
    "\n",
    "\n",
    "image_size = 400\n",
    "val_data = []\n",
    "for category in CATEGORY:\n",
    "    path = os.path.join(DATADIR,category)\n",
    "    class_arr = CATEGORY.index(category)\n",
    "    for img in os.listdir(path):\n",
    "        \n",
    "        try:\n",
    "            data_arr = cv2.imread(os.path.join(path,img))\n",
    "            new_arr = cv2.resize(data_arr,(image_size,image_size))\n",
    "            val_data.append([new_arr,class_arr])\n",
    "        except Exception as e:\n",
    "            pass\n",
    "        \n",
    "print(len(val_data))      "
   ]
  },
  {
   "cell_type": "code",
   "execution_count": 49,
   "metadata": {},
   "outputs": [],
   "source": [
    "random.shuffle(val_data)\n",
    "X_val = []\n",
    "Y_val = []\n",
    "for feature,label  in val_data:\n",
    "    X_val.append( feature)\n",
    "    Y_val.append(label)"
   ]
  },
  {
   "cell_type": "code",
   "execution_count": 50,
   "metadata": {},
   "outputs": [
    {
     "name": "stdout",
     "output_type": "stream",
     "text": [
      "(624, 400, 400, 3)\n"
     ]
    }
   ],
   "source": [
    "X_val = np.array(X_val).reshape(-1,image_size,image_size,3)\n",
    "Y_val = np.array(Y_val).reshape(-1,1)\n",
    "print(X_val.shape)\n"
   ]
  },
  {
   "cell_type": "code",
   "execution_count": 51,
   "metadata": {},
   "outputs": [],
   "source": [
    "X_val = X_val.reshape(X_val.shape[0],-1).T"
   ]
  },
  {
   "cell_type": "code",
   "execution_count": 52,
   "metadata": {},
   "outputs": [
    {
     "name": "stdout",
     "output_type": "stream",
     "text": [
      "(480000, 624)\n",
      "(1, 624)\n"
     ]
    }
   ],
   "source": [
    "print(X_val.shape)\n",
    "Y_val = Y_val.T\n",
    "print(Y_val.shape)"
   ]
  },
  {
   "cell_type": "code",
   "execution_count": 53,
   "metadata": {},
   "outputs": [],
   "source": [
    "pickle_out = open(\"X_test.pickle\",\"wb\")\n",
    "pickle.dump(X_val,pickle_out)\n",
    "pickle_out.close()\n",
    "\n",
    "pickle_out = open(\"Y_test.pickle\",\"wb\")\n",
    "pickle.dump(Y_val,pickle_out)\n",
    "pickle_out.close()"
   ]
  },
  {
   "cell_type": "code",
   "execution_count": null,
   "metadata": {},
   "outputs": [],
   "source": []
  }
 ],
 "metadata": {
  "kernelspec": {
   "display_name": "Python 3",
   "language": "python",
   "name": "python3"
  },
  "language_info": {
   "codemirror_mode": {
    "name": "ipython",
    "version": 3
   },
   "file_extension": ".py",
   "mimetype": "text/x-python",
   "name": "python",
   "nbconvert_exporter": "python",
   "pygments_lexer": "ipython3",
   "version": "3.8.3"
  }
 },
 "nbformat": 4,
 "nbformat_minor": 4
}
